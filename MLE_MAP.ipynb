{
  "nbformat": 4,
  "nbformat_minor": 0,
  "metadata": {
    "colab": {
      "provenance": []
    },
    "kernelspec": {
      "name": "python3",
      "display_name": "Python 3"
    },
    "language_info": {
      "name": "python"
    }
  },
  "cells": [
    {
      "cell_type": "markdown",
      "source": [
        "<h1 style=\"text-align: center\">\n",
        "Machine Learning HW1 </br>\n",
        "MLE & MAP in Python\n",
        "</h1>\n",
        "\n",
        "#### Name:\n",
        "\n",
        "#### Std. Number:"
      ],
      "metadata": {
        "id": "K1-izC4ZKHJ9"
      }
    },
    {
      "cell_type": "markdown",
      "source": [
        "## Objective\n",
        "This exercise will help you gain a deeper understanding of, and insights into, Maximum Likelihood Estimation (MLE) and Maximum A Posteriori (MAP) estimation$\\textit{Maximum Likelihood Estimation (MLE) and Maximum A Posteriori (MAP) }$ :) \\\\\n",
        "Let’s say you have a barrel of apples that are all different sizes. You pick an apple at random, and you want to know its weight. Unfortunately, all you have is a broken scale. answer the questions below."
      ],
      "metadata": {
        "id": "YhTuYwHYbE_1"
      }
    },
    {
      "cell_type": "markdown",
      "source": [
        "1) For the sake of this section, lets imagine a farmer tells you that the scale returns the weight of the object with an error of +/- a standard deviation of 5g. We can describe this mathematically as:\n",
        "$$\n",
        "measurement = weight + \\mathcal{N}(0, 5g)\n",
        "$$\n",
        "You can weigh the apple as many times as you want, so weigh it 100 times.\n",
        "plot its histogram of your 100 measurements. (y axis is the counts and x-axis is the measured weight)"
      ],
      "metadata": {
        "id": "eSaLb6AYa9DJ"
      }
    },
    {
      "cell_type": "code",
      "source": [
        "        ######################################################\n",
        "        ###################### TO DO #########################\n",
        "        ######################################################\n",
        "        #                                                    #\n",
        "        #                                                    #\n",
        "        ######################################################\n",
        "        ######################################################\n",
        "        ######################################################"
      ],
      "metadata": {
        "id": "hPMnHTcia07a"
      },
      "execution_count": null,
      "outputs": []
    },
    {
      "cell_type": "markdown",
      "source": [
        "2) Find the average weight of the apple.\n",
        "Is it a good guess? state your reason."
      ],
      "metadata": {
        "id": "HD9Mqy-bcPi5"
      }
    },
    {
      "cell_type": "code",
      "source": [
        "        ######################################################\n",
        "        ###################### TO DO #########################\n",
        "        ######################################################\n",
        "        #                                                    #\n",
        "        #                                                    #\n",
        "        ######################################################\n",
        "        ######################################################\n",
        "        ######################################################"
      ],
      "metadata": {
        "id": "xlCBTC0lcPKa"
      },
      "execution_count": null,
      "outputs": []
    },
    {
      "cell_type": "markdown",
      "source": [
        "3) we are going to use grid approximation for calculating the MLE. here is the link if you wnat to get more fimilar with this technique:\n",
        "https://www.bayesrulesbook.com/chapter-6\n",
        "\n",
        "Our end goal is to find the weight of the apple, given the data we have. To formulate it in a Bayesian way: We’ll ask what is the probability of the apple having weight, $w$, given the measurements we took, $X$. And, because we're formulating this in a Bayesian way, we use Bayes’ Law to find the answer:\n",
        "\n",
        "$$\n",
        "P(w|X) = \\frac{P(X|w)P(w)}{P(X)}\n",
        "$$\n",
        "\n",
        "If we make no assumptions about the initial weight of our apple, then we can drop $P(w)$. We’ll say all sizes of apples are equally likely (we’ll revisit this assumption in the MAP approximation).\n",
        "\n",
        "Furthermore, we’ll drop $P(X)$ - the probability of seeing our data. This is a normalization constant and will be important if we do want to know the probabilities of apple weights. But, for right now, our end goal is to only to find the most probable weight. $P(X)$ is independent of $w$, so we can drop it if we’re doing relative comparisons.\n",
        "\n",
        "This leaves us with $P(X|w)$, our likelihood, as in, what is the likelihood that we would see the data, $X$, given an apple of weight $w$. If we maximize this, we maximize the probability that we will guess the right weight.\n",
        "\n",
        "The grid approximation is probably the simplest way to do this. Basically, we’ll systematically step through different weight guesses, and compare what it would look like if this hypothetical weight were to generate data. We’ll compare this hypothetical data to our real data and pick the one that matches the best.\n",
        "\n",
        "To formulate this mathematically:\n",
        "\n",
        "For each of these guesses, we’re asking \"what is the probability that the data we have, came from the distribution that our weight guess would generate\". Because each measurement is independent from another, we can break the above equation down into finding the probability on a per measurement basis:\n",
        "\n",
        "$$\n",
        "P(X|w) = \\prod_{i}^{N} p(x_i|w)\n",
        "$$\n",
        "\n",
        "So, if we multiply the probability that we would see each individual data point - given our weight guess - then we can find one number comparing our weight guess to all of our data.\n",
        "\n",
        "The peak in the likelihood is the weight of the apple.\n",
        "\n",
        "To make it computationally easier,\n",
        "\n",
        "$$\n",
        "\\log P(X|w) = \\log \\prod_{i}^{N} p(x_i|w) = \\sum_{i}^{N} \\log p(d_i|w)\n",
        "$$\n",
        "\n",
        "\n",
        "\n",
        "a) Why did we use log likelihood? Is it ok to do so?\n",
        "\n",
        "b) do the grid approximation and complete the cell below"
      ],
      "metadata": {
        "id": "y-P9PJuKcrbq"
      }
    },
    {
      "cell_type": "code",
      "source": [
        "from scipy.stats import norm\n",
        "import numpy as np\n",
        "\n",
        "weight_grid = np.linspace(0, 100)\n",
        "\n",
        "            ######################################################\n",
        "        ###################### TO DO #########################\n",
        "        ######################################################\n",
        "        #                                                    #\n",
        "        #                                                    #\n",
        "        ######################################################\n",
        "        ######################################################\n",
        "        ######################################################\n",
        "\n",
        "\"\"\"\n",
        "# Calculate the maximum likelihood estimate of a parameter in a normal distribution.\n",
        "# First calculate the log likelihoods for a range of weight guesses.\n",
        "# For each weight guess, assume that the data comes from a normal distribution with that mean and a standard deviation of 10.\n",
        "# Then calculate the log of the probability density function (pdf) of the data under this assumption.\n",
        "# The sum of these log pdf values is the total log likelihood for that weight guess.\n",
        "# After calculating the log likelihoods for all weight guesses, find the weight guess with the maximum log likelihood.\n",
        "# This is the maximum likelihood estimate of the weight.\n",
        "\"\"\""
      ],
      "metadata": {
        "id": "9NnWmxzTiRfr"
      },
      "execution_count": null,
      "outputs": []
    },
    {
      "cell_type": "markdown",
      "source": [
        "Play around with the code and try to answer the following questions regarding MLE and MAP. You can draw plots to visualize as well."
      ],
      "metadata": {
        "id": "NN3lt2npcc2S"
      }
    },
    {
      "cell_type": "code",
      "execution_count": null,
      "metadata": {
        "id": "ezcWTpNQamCL"
      },
      "outputs": [],
      "source": [
        "import numpy as np\n",
        "from scipy.stats import norm, invgamma\n",
        "\n",
        "\n",
        "# The barrel of apples\n",
        "# The average apples is between 70-100 g\n",
        "BARREL = np.random.normal(loc=85, scale=20, size=100)\n",
        "# Grid\n",
        "WEIGHT_GUESSES = np.linspace(1, 200, 100)\n",
        "ERROR_GUESSES = np.linspace(.1, 50, 100)\n",
        "\n",
        "# NOTE: Try changing the scale error\n",
        "# in practice, you would not know this number\n",
        "SCALE_ERR = 5\n",
        "\n",
        "# NOTE: Try changing the number of measurements taken\n",
        "N_MEASURMENTS = 10\n",
        "\n",
        "# NOTE: Try changing the prior values and distributions\n",
        "PRIOR_WEIGHT = norm(50, 1).logpdf(WEIGHT_GUESSES)\n",
        "PRIOR_ERR = invgamma(4).logpdf(ERROR_GUESSES)\n",
        "\n",
        "LOG_PRIOR_GRID = np.add.outer(PRIOR_ERR, PRIOR_WEIGHT)\n",
        "\n",
        "\n",
        "def read_scale(apple):\n",
        "    return apple + np.random.normal(loc=0, scale=SCALE_ERR)\n",
        "\n",
        "\n",
        "def get_log_likelihood_grid(measurments):\n",
        "    log_liklelihood = [\n",
        "        [\n",
        "            norm(weight_guess, error_guess).logpdf(measurments).sum()\n",
        "            for weight_guess in WEIGHT_GUESSES\n",
        "        ]\n",
        "        for error_guess in ERROR_GUESSES\n",
        "    ]\n",
        "    return np.asarray(log_liklelihood)\n",
        "\n",
        "\n",
        "def get_mle(measurments):\n",
        "            ######################################################\n",
        "        ###################### TO DO #########################\n",
        "        ######################################################\n",
        "        #                                                    #\n",
        "        #                                                    #\n",
        "        ######################################################\n",
        "        ######################################################\n",
        "        ######################################################\n",
        "    \"\"\"\n",
        "    Calculate the log-likelihood for each measurement in the grid.\n",
        "    Find the index of the maximum log-likelihood in the grid.\n",
        "    Return the weight guess corresponding to the maximum log-likelihood.\n",
        "    \"\"\"\n",
        "\n",
        "\n",
        "def get_map(measurements):\n",
        "          ######################################################\n",
        "        ###################### TO DO #########################\n",
        "        ######################################################\n",
        "        #                                                    #\n",
        "        #                                                    #\n",
        "        ######################################################\n",
        "        ######################################################\n",
        "        ######################################################\n",
        "    \"\"\"\n",
        "    Calculate the log-likelihood for each measurement in the grid.\n",
        "    Add the log prior to the log likelihood to get the log posterior.\n",
        "    Find the index of the maximum log posterior in the grid.\n",
        "    Return the weight guess corresponding to the maximum log posterior.\n",
        "    \"\"\"\n",
        "\n",
        "# Pick an apple at random\n",
        "apple = np.random.choice(BARREL)\n",
        "\n",
        "# weight the apple\n",
        "measurments = np.asarray([read_scale(apple) for _ in range(N_MEASURMENTS)])\n",
        "\n",
        "print(f\"Average measurement: {measurments.mean():.3f} g\")\n",
        "print(f\"Maximum Likelihood estimate: {get_mle(measurments):.3f} g\")\n",
        "print(f\"Maximum A Posterior estimate: {get_map(measurments):.3f} g\")\n",
        "print(f\"The true weight of the apple was: {apple:.3f} g\")"
      ]
    },
    {
      "cell_type": "markdown",
      "source": [
        "<h3><i><i> Questions</h3>\n",
        "1.\n",
        "How sensitive is the MAP measurement to the choice of prior?"
      ],
      "metadata": {
        "id": "LI_541TpetKk"
      }
    },
    {
      "cell_type": "markdown",
      "source": [
        "<h3><i><i></h3>\n",
        "2. How sensitive is the MLE and MAP answer to the grid size?\n"
      ],
      "metadata": {
        "id": "RMV-wgYXes_O"
      }
    }
  ]
}